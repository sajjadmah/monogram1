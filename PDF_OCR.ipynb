{
  "nbformat": 4,
  "nbformat_minor": 0,
  "metadata": {
    "colab": {
      "provenance": [],
      "include_colab_link": true
    },
    "kernelspec": {
      "name": "python3",
      "display_name": "Python 3"
    },
    "language_info": {
      "name": "python"
    }
  },
  "cells": [
    {
      "cell_type": "markdown",
      "metadata": {
        "id": "view-in-github",
        "colab_type": "text"
      },
      "source": [
        "<a href=\"https://colab.research.google.com/github/sajjadmah/monogram1/blob/master/PDF_OCR.ipynb\" target=\"_parent\"><img src=\"https://colab.research.google.com/assets/colab-badge.svg\" alt=\"Open In Colab\"/></a>"
      ]
    },
    {
      "cell_type": "markdown",
      "source": [
        "# OCR on PDF\n",
        "\n",
        "This notebook can OCR on large and unsearchable PDF files and has been developed on Google Colab on 08 Dec 2024."
      ],
      "metadata": {
        "id": "aigM18kE9rfL"
      }
    },
    {
      "cell_type": "code",
      "source": [
        "!apt-get install -y tesseract-ocr\n",
        "#tesseract-ocr version = 4.1.1-2.1build1\n",
        "\n",
        "!apt-get install -y tesseract-ocr-fas\n",
        "#for Persian OCR\n"
      ],
      "metadata": {
        "colab": {
          "base_uri": "https://localhost:8080/"
        },
        "id": "Q6Tk1Z9egAXb",
        "outputId": "f3e9f749-1295-4d8d-b9f9-322cf5041ed6"
      },
      "execution_count": 1,
      "outputs": [
        {
          "output_type": "stream",
          "name": "stdout",
          "text": [
            "Reading package lists... Done\n",
            "Building dependency tree... Done\n",
            "Reading state information... Done\n",
            "The following additional packages will be installed:\n",
            "  tesseract-ocr-eng tesseract-ocr-osd\n",
            "The following NEW packages will be installed:\n",
            "  tesseract-ocr tesseract-ocr-eng tesseract-ocr-osd\n",
            "0 upgraded, 3 newly installed, 0 to remove and 49 not upgraded.\n",
            "Need to get 4,816 kB of archives.\n",
            "After this operation, 15.6 MB of additional disk space will be used.\n",
            "Get:1 http://archive.ubuntu.com/ubuntu jammy/universe amd64 tesseract-ocr-eng all 1:4.00~git30-7274cfa-1.1 [1,591 kB]\n",
            "Get:2 http://archive.ubuntu.com/ubuntu jammy/universe amd64 tesseract-ocr-osd all 1:4.00~git30-7274cfa-1.1 [2,990 kB]\n",
            "Get:3 http://archive.ubuntu.com/ubuntu jammy/universe amd64 tesseract-ocr amd64 4.1.1-2.1build1 [236 kB]\n",
            "Fetched 4,816 kB in 0s (12.5 MB/s)\n",
            "Selecting previously unselected package tesseract-ocr-eng.\n",
            "(Reading database ... 123632 files and directories currently installed.)\n",
            "Preparing to unpack .../tesseract-ocr-eng_1%3a4.00~git30-7274cfa-1.1_all.deb ...\n",
            "Unpacking tesseract-ocr-eng (1:4.00~git30-7274cfa-1.1) ...\n",
            "Selecting previously unselected package tesseract-ocr-osd.\n",
            "Preparing to unpack .../tesseract-ocr-osd_1%3a4.00~git30-7274cfa-1.1_all.deb ...\n",
            "Unpacking tesseract-ocr-osd (1:4.00~git30-7274cfa-1.1) ...\n",
            "Selecting previously unselected package tesseract-ocr.\n",
            "Preparing to unpack .../tesseract-ocr_4.1.1-2.1build1_amd64.deb ...\n",
            "Unpacking tesseract-ocr (4.1.1-2.1build1) ...\n",
            "Setting up tesseract-ocr-eng (1:4.00~git30-7274cfa-1.1) ...\n",
            "Setting up tesseract-ocr-osd (1:4.00~git30-7274cfa-1.1) ...\n",
            "Setting up tesseract-ocr (4.1.1-2.1build1) ...\n",
            "Processing triggers for man-db (2.10.2-1) ...\n",
            "Reading package lists... Done\n",
            "Building dependency tree... Done\n",
            "Reading state information... Done\n",
            "The following NEW packages will be installed:\n",
            "  tesseract-ocr-fas\n",
            "0 upgraded, 1 newly installed, 0 to remove and 49 not upgraded.\n",
            "Need to get 301 kB of archives.\n",
            "After this operation, 446 kB of additional disk space will be used.\n",
            "Get:1 http://archive.ubuntu.com/ubuntu jammy/universe amd64 tesseract-ocr-fas all 1:4.00~git30-7274cfa-1.1 [301 kB]\n",
            "Fetched 301 kB in 0s (1,650 kB/s)\n",
            "Selecting previously unselected package tesseract-ocr-fas.\n",
            "(Reading database ... 123679 files and directories currently installed.)\n",
            "Preparing to unpack .../tesseract-ocr-fas_1%3a4.00~git30-7274cfa-1.1_all.deb ...\n",
            "Unpacking tesseract-ocr-fas (1:4.00~git30-7274cfa-1.1) ...\n",
            "Setting up tesseract-ocr-fas (1:4.00~git30-7274cfa-1.1) ...\n"
          ]
        }
      ]
    },
    {
      "cell_type": "code",
      "source": [
        "!pip install pytesseract pdf2image Pillow\n",
        "\n",
        "#pdf2image version = 1.17.0\n",
        "#pytesseract version = 0.3.13\n",
        "#Pillow version = 11.0.0"
      ],
      "metadata": {
        "colab": {
          "base_uri": "https://localhost:8080/"
        },
        "id": "cVMCVb6Yg6cj",
        "outputId": "445db40a-c580-458a-ccac-9133666f6c3d"
      },
      "execution_count": 2,
      "outputs": [
        {
          "output_type": "stream",
          "name": "stdout",
          "text": [
            "Collecting pytesseract\n",
            "  Downloading pytesseract-0.3.13-py3-none-any.whl.metadata (11 kB)\n",
            "Collecting pdf2image\n",
            "  Downloading pdf2image-1.17.0-py3-none-any.whl.metadata (6.2 kB)\n",
            "Requirement already satisfied: Pillow in /usr/local/lib/python3.10/dist-packages (11.0.0)\n",
            "Requirement already satisfied: packaging>=21.3 in /usr/local/lib/python3.10/dist-packages (from pytesseract) (24.2)\n",
            "Downloading pytesseract-0.3.13-py3-none-any.whl (14 kB)\n",
            "Downloading pdf2image-1.17.0-py3-none-any.whl (11 kB)\n",
            "Installing collected packages: pytesseract, pdf2image\n",
            "Successfully installed pdf2image-1.17.0 pytesseract-0.3.13\n"
          ]
        }
      ]
    },
    {
      "cell_type": "code",
      "source": [
        "!apt-get install -y poppler-utils"
      ],
      "metadata": {
        "colab": {
          "base_uri": "https://localhost:8080/"
        },
        "id": "mUcMgtKbhaA2",
        "outputId": "af5a4d1e-6548-4a81-eccf-afff52506129"
      },
      "execution_count": 3,
      "outputs": [
        {
          "output_type": "stream",
          "name": "stdout",
          "text": [
            "Reading package lists... Done\n",
            "Building dependency tree... Done\n",
            "Reading state information... Done\n",
            "The following NEW packages will be installed:\n",
            "  poppler-utils\n",
            "0 upgraded, 1 newly installed, 0 to remove and 49 not upgraded.\n",
            "Need to get 186 kB of archives.\n",
            "After this operation, 696 kB of additional disk space will be used.\n",
            "Get:1 http://archive.ubuntu.com/ubuntu jammy-updates/main amd64 poppler-utils amd64 22.02.0-2ubuntu0.5 [186 kB]\n",
            "Fetched 186 kB in 1s (272 kB/s)\n",
            "Selecting previously unselected package poppler-utils.\n",
            "(Reading database ... 123683 files and directories currently installed.)\n",
            "Preparing to unpack .../poppler-utils_22.02.0-2ubuntu0.5_amd64.deb ...\n",
            "Unpacking poppler-utils (22.02.0-2ubuntu0.5) ...\n",
            "Setting up poppler-utils (22.02.0-2ubuntu0.5) ...\n",
            "Processing triggers for man-db (2.10.2-1) ...\n"
          ]
        }
      ]
    },
    {
      "cell_type": "code",
      "source": [
        "#upload your pdf\n",
        "from google.colab import files\n",
        "uploaded = files.upload()"
      ],
      "metadata": {
        "colab": {
          "base_uri": "https://localhost:8080/",
          "height": 56
        },
        "id": "OnkFu76fiI0g",
        "outputId": "fb4bdcea-c359-41d5-f21c-f7b2c5d960cd"
      },
      "execution_count": null,
      "outputs": [
        {
          "data": {
            "text/html": [
              "\n",
              "     <input type=\"file\" id=\"files-88253311-d32d-462b-a6c6-da02c17783fb\" name=\"files[]\" multiple disabled\n",
              "        style=\"border:none\" />\n",
              "     <output id=\"result-88253311-d32d-462b-a6c6-da02c17783fb\">\n",
              "      Upload widget is only available when the cell has been executed in the\n",
              "      current browser session. Please rerun this cell to enable.\n",
              "      </output>\n",
              "      <script>// Copyright 2017 Google LLC\n",
              "//\n",
              "// Licensed under the Apache License, Version 2.0 (the \"License\");\n",
              "// you may not use this file except in compliance with the License.\n",
              "// You may obtain a copy of the License at\n",
              "//\n",
              "//      http://www.apache.org/licenses/LICENSE-2.0\n",
              "//\n",
              "// Unless required by applicable law or agreed to in writing, software\n",
              "// distributed under the License is distributed on an \"AS IS\" BASIS,\n",
              "// WITHOUT WARRANTIES OR CONDITIONS OF ANY KIND, either express or implied.\n",
              "// See the License for the specific language governing permissions and\n",
              "// limitations under the License.\n",
              "\n",
              "/**\n",
              " * @fileoverview Helpers for google.colab Python module.\n",
              " */\n",
              "(function(scope) {\n",
              "function span(text, styleAttributes = {}) {\n",
              "  const element = document.createElement('span');\n",
              "  element.textContent = text;\n",
              "  for (const key of Object.keys(styleAttributes)) {\n",
              "    element.style[key] = styleAttributes[key];\n",
              "  }\n",
              "  return element;\n",
              "}\n",
              "\n",
              "// Max number of bytes which will be uploaded at a time.\n",
              "const MAX_PAYLOAD_SIZE = 100 * 1024;\n",
              "\n",
              "function _uploadFiles(inputId, outputId) {\n",
              "  const steps = uploadFilesStep(inputId, outputId);\n",
              "  const outputElement = document.getElementById(outputId);\n",
              "  // Cache steps on the outputElement to make it available for the next call\n",
              "  // to uploadFilesContinue from Python.\n",
              "  outputElement.steps = steps;\n",
              "\n",
              "  return _uploadFilesContinue(outputId);\n",
              "}\n",
              "\n",
              "// This is roughly an async generator (not supported in the browser yet),\n",
              "// where there are multiple asynchronous steps and the Python side is going\n",
              "// to poll for completion of each step.\n",
              "// This uses a Promise to block the python side on completion of each step,\n",
              "// then passes the result of the previous step as the input to the next step.\n",
              "function _uploadFilesContinue(outputId) {\n",
              "  const outputElement = document.getElementById(outputId);\n",
              "  const steps = outputElement.steps;\n",
              "\n",
              "  const next = steps.next(outputElement.lastPromiseValue);\n",
              "  return Promise.resolve(next.value.promise).then((value) => {\n",
              "    // Cache the last promise value to make it available to the next\n",
              "    // step of the generator.\n",
              "    outputElement.lastPromiseValue = value;\n",
              "    return next.value.response;\n",
              "  });\n",
              "}\n",
              "\n",
              "/**\n",
              " * Generator function which is called between each async step of the upload\n",
              " * process.\n",
              " * @param {string} inputId Element ID of the input file picker element.\n",
              " * @param {string} outputId Element ID of the output display.\n",
              " * @return {!Iterable<!Object>} Iterable of next steps.\n",
              " */\n",
              "function* uploadFilesStep(inputId, outputId) {\n",
              "  const inputElement = document.getElementById(inputId);\n",
              "  inputElement.disabled = false;\n",
              "\n",
              "  const outputElement = document.getElementById(outputId);\n",
              "  outputElement.innerHTML = '';\n",
              "\n",
              "  const pickedPromise = new Promise((resolve) => {\n",
              "    inputElement.addEventListener('change', (e) => {\n",
              "      resolve(e.target.files);\n",
              "    });\n",
              "  });\n",
              "\n",
              "  const cancel = document.createElement('button');\n",
              "  inputElement.parentElement.appendChild(cancel);\n",
              "  cancel.textContent = 'Cancel upload';\n",
              "  const cancelPromise = new Promise((resolve) => {\n",
              "    cancel.onclick = () => {\n",
              "      resolve(null);\n",
              "    };\n",
              "  });\n",
              "\n",
              "  // Wait for the user to pick the files.\n",
              "  const files = yield {\n",
              "    promise: Promise.race([pickedPromise, cancelPromise]),\n",
              "    response: {\n",
              "      action: 'starting',\n",
              "    }\n",
              "  };\n",
              "\n",
              "  cancel.remove();\n",
              "\n",
              "  // Disable the input element since further picks are not allowed.\n",
              "  inputElement.disabled = true;\n",
              "\n",
              "  if (!files) {\n",
              "    return {\n",
              "      response: {\n",
              "        action: 'complete',\n",
              "      }\n",
              "    };\n",
              "  }\n",
              "\n",
              "  for (const file of files) {\n",
              "    const li = document.createElement('li');\n",
              "    li.append(span(file.name, {fontWeight: 'bold'}));\n",
              "    li.append(span(\n",
              "        `(${file.type || 'n/a'}) - ${file.size} bytes, ` +\n",
              "        `last modified: ${\n",
              "            file.lastModifiedDate ? file.lastModifiedDate.toLocaleDateString() :\n",
              "                                    'n/a'} - `));\n",
              "    const percent = span('0% done');\n",
              "    li.appendChild(percent);\n",
              "\n",
              "    outputElement.appendChild(li);\n",
              "\n",
              "    const fileDataPromise = new Promise((resolve) => {\n",
              "      const reader = new FileReader();\n",
              "      reader.onload = (e) => {\n",
              "        resolve(e.target.result);\n",
              "      };\n",
              "      reader.readAsArrayBuffer(file);\n",
              "    });\n",
              "    // Wait for the data to be ready.\n",
              "    let fileData = yield {\n",
              "      promise: fileDataPromise,\n",
              "      response: {\n",
              "        action: 'continue',\n",
              "      }\n",
              "    };\n",
              "\n",
              "    // Use a chunked sending to avoid message size limits. See b/62115660.\n",
              "    let position = 0;\n",
              "    do {\n",
              "      const length = Math.min(fileData.byteLength - position, MAX_PAYLOAD_SIZE);\n",
              "      const chunk = new Uint8Array(fileData, position, length);\n",
              "      position += length;\n",
              "\n",
              "      const base64 = btoa(String.fromCharCode.apply(null, chunk));\n",
              "      yield {\n",
              "        response: {\n",
              "          action: 'append',\n",
              "          file: file.name,\n",
              "          data: base64,\n",
              "        },\n",
              "      };\n",
              "\n",
              "      let percentDone = fileData.byteLength === 0 ?\n",
              "          100 :\n",
              "          Math.round((position / fileData.byteLength) * 100);\n",
              "      percent.textContent = `${percentDone}% done`;\n",
              "\n",
              "    } while (position < fileData.byteLength);\n",
              "  }\n",
              "\n",
              "  // All done.\n",
              "  yield {\n",
              "    response: {\n",
              "      action: 'complete',\n",
              "    }\n",
              "  };\n",
              "}\n",
              "\n",
              "scope.google = scope.google || {};\n",
              "scope.google.colab = scope.google.colab || {};\n",
              "scope.google.colab._files = {\n",
              "  _uploadFiles,\n",
              "  _uploadFilesContinue,\n",
              "};\n",
              "})(self);\n",
              "</script> "
            ],
            "text/plain": [
              "<IPython.core.display.HTML object>"
            ]
          },
          "metadata": {},
          "output_type": "display_data"
        }
      ]
    },
    {
      "cell_type": "code",
      "source": [
        "import pytesseract\n",
        "from pdf2image import convert_from_path\n",
        "import os"
      ],
      "metadata": {
        "id": "F2vdrSj6gdg6"
      },
      "execution_count": null,
      "outputs": []
    },
    {
      "cell_type": "code",
      "source": [
        "# Function to perform OCR and search for a keyword\n",
        "def ocr_pdf_and_search_keyword(pdf_path, keyword, lang= 'fas'):   # 'fas': Persian language (farsi)\n",
        "\n",
        "    # Convert PDF to images\n",
        "    images = convert_from_path(pdf_path)\n",
        "\n",
        "    # Initialize a variable to hold the extracted text\n",
        "    extracted_text = \"\"\n",
        "    keyword_found = False\n",
        "\n",
        "    # Loop through each image and perform OCR\n",
        "    for page_number, image in enumerate(images):\n",
        "        print(f\"Processing page {page_number + 1}/{len(images)}...\")\n",
        "        text = pytesseract.image_to_string(image, lang=lang)\n",
        "        extracted_text += text\n",
        "\n",
        "        # Check if the keyword is in the extracted text\n",
        "        if keyword.lower() in text.lower():\n",
        "            print(f\"Keyword '{keyword}' found on page {page_number + 1}.\")\n",
        "            keyword_found = True\n",
        "\n",
        "    if not keyword_found:\n",
        "        print(f\"Keyword '{keyword}' not found in the document.\")\n",
        "\n",
        "    return extracted_text"
      ],
      "metadata": {
        "id": "8JttVrD4ilUJ"
      },
      "execution_count": null,
      "outputs": []
    },
    {
      "cell_type": "code",
      "source": [
        "# Example usage\n",
        "pdf_file_path = list(uploaded.keys())[0]  # Get the name of the uploaded PDF file\n",
        "search_keyword = 'فلسفه'  # Replace with the keyword you want to search\n"
      ],
      "metadata": {
        "id": "BPooSaZBiulu"
      },
      "execution_count": null,
      "outputs": []
    },
    {
      "cell_type": "code",
      "source": [
        "# Run the OCR and search for the keyword\n",
        "ocr_pdf_and_search_keyword(pdf_file_path, search_keyword, lang='fas')"
      ],
      "metadata": {
        "colab": {
          "base_uri": "https://localhost:8080/",
          "height": 504
        },
        "id": "Q42OspnLi5BQ",
        "outputId": "4fe1769d-9f89-4f74-b959-9813453901da"
      },
      "execution_count": null,
      "outputs": [
        {
          "output_type": "stream",
          "name": "stdout",
          "text": [
            "Processing page 1/18...\n",
            "Processing page 2/18...\n",
            "Keyword 'فلسفه' found on page 2.\n",
            "Processing page 3/18...\n",
            "Processing page 4/18...\n",
            "Processing page 5/18...\n",
            "Keyword 'فلسفه' found on page 5.\n",
            "Processing page 6/18...\n",
            "Processing page 7/18...\n",
            "Processing page 8/18...\n",
            "Processing page 9/18...\n",
            "Processing page 10/18...\n",
            "Processing page 11/18...\n",
            "Processing page 12/18...\n",
            "Processing page 13/18...\n",
            "Processing page 14/18...\n",
            "Processing page 15/18...\n",
            "Processing page 16/18...\n",
            "Processing page 17/18...\n",
            "Processing page 18/18...\n"
          ]
        },
        {
          "output_type": "execute_result",
          "data": {
            "text/plain": [
              "'حجت کیانی ۸ (کلاسهای استخدامی )\\nسوالات آزمون استخدامی آموزش و پرورش(عمومی و اختصاصی )\\n\\n۱. هدف دشمنان ایران و اسلام از تبلیغ و ترویج شخصیت های مزدکی و مانوی مانند المقنعء بابک و مازیار در میان ایرانیان کدام است ؟\\nترویج احساسات مذهبی دیگری به جای اسلام دفاع از ملیت و قومیت ایرانی با سابقه ۲۵ قرن\\n\\n۰۱ تبدیل احساسات اسلامی به احساسات ضد اسلامی! حذف ۱۵ قرن روشن از اذهان ملت ایران\\n\\n۲. عده ای می گویند \"شکوفایی فرهنگی و هنری ایران پس از ورود اسلام عکس العمل جامعه برای جبران سرخوردگی و شکست نظامی\\nاست\" کدام مورد زیر » به اين شیهه پاسخ می دهد ؟\\n\\nایرانیان پش از جبران شکست مروج و مبلغ اسلام در میان ملت های دیگر بوده اند\\nدر مناطقی که شکست سنگین تر بوده » حجم و کیفیت فعالیت ها و خدمات بیشتر است\\n\\nسابقه خدمات متقابل اسلام و ایرانیان به قبل از شکست های نظامی می رسد\\n\\n۲ ون 2\\n\\nاندکی از خاندان ها و شهرون\\n\\nتنها اولین گروه ایرانیان پس از حمله اعراب به ایران و با | ۳ شدند\\nایرانیان پس از استقلال نخواستند و نتوانستند یه موه قح | 9\\n\\n  \\n\\n۳۹[\\nایر\\n\\nتح شده تا قرن چهارم اسلام را پذیرفتند\\n\\nدر مورد طبقه حاکم و همچنین در مورد توده مردم و نخبگان علمی به جاست\\nدر مورد طبقه حاکم و همچنین در مورد توده مردم و نخبگان علمی نابه جاست\\n۴ در مورد طبقه حاکم نابه جاست . اما در مورد توده مردم و نخبگان علمی به جاست\\n\\n۵ سرنوشت دانشگاه جندی شاپور در تمدن اسلامی » در کدام مورد بیان شده است ؟\\n\\nبه دلیل کشتار اساتید و دانشجویان آن در جنگ ها از بین رفت\\n\\nدر ابتدای فتح ایران توسط سپاه مسلمین » تخریب شد پس از اسلام آوردن ایرانیان » به مرکز علوم اسلامی بدل شد\\n\\n۳۱۸\\n\\n٩0620060 ۱۷۷۱۱ ۲\\n\\x0c۶ با وجود علمی بودن روحیه ملت ایران » کدام مورد زیر نشانه ای از وجود روحیه ضدعلمی در حکومت ساسانی بوده است ؟\\n\\nنیود آثار علمی شاخص در دوره ساسانیان با وجود اهتمام ایرانیان\\n\\nبی توجهی به تکریم عالمان و جایگاه نامناسب محلمان در جامعه\\n\\nگسترش علم و فرهنگ و هنر در ایران » پس از انقراض حکومت ساسانی\\n\\n۷ در آرای کدام حکیم ایرانی » چهار جریان فلسفی مشایی» فلسفه اشراقی » عرفان نظری و مفاهیم\\nکلامی با هم تلاقی پیدا کرده اند\\n\\nخواجه نصیر شیخ بهایی 1 ۳ ملاصدرا! فارایی\\n۸ عقب ماندن علمی و فرهنگی ایرانیان در برخی دوره ها که موجب تحقیر تاریخ ایران توسط مورخانی\\nمانند گوستا ولوبون شده است . نتیجه کدام عامل است ؟\\n\\nایجاد جنگ های پی در پی پادشاهان ايران با پادشاهان روم و یونان\\n\\nلهج جت. جت. جت. جنت. حیحصت حیحصت کج جنت. جت. صنت صصخت ج جت صن جن ج \\u200f ج خن خن ج ص خن خن خن مت من من مس\\n\\nوجود محدودیت 9 ان ر دوره سا\\n\\u200e٩\\u200f به ترتیب فضیلت اجتماعی پیش از ورود اسلام به ایران بر کدام رٍ ۳۳ اسلام کدام است ؟\\nطبقه و خون - سیادت و روحانیت خون و مالکیت - سادت و روحانیت و مایت نت تقوا |\\n۹\\n\\nطبقه و حرفه - علم و تقوا\\n\\n۰ یکی از ثمرات فرهنگ اسلام در تاریخ ایران هضم ساختن و اصلاح تمدن مهاجم بوده است . به ترتیب این تغییر روش در مورد کدام\\nیک از نوادگان چنگیز و تیمور قابل مشاده است ؟\\n\\n( . خدابنده -بایسنقر | بایقرا - بایسنقر بایقرا - رستم فرخ زاد خدابنده - رستم فرخ زاد\\n\\n۱ اولین ترجمه مهم از زبان فارسی به عربی در تمدن اسلامی » مربوط به کدام قسمت بوده است ؟\\n\\n۰ ۹\\nفلسفه و علوم عقلی نظامات بهداشتی و درمانی ۰ \" علوم کیمیا و کیمیاگری ۲ . علوم اداری !\\n\\n۳ ایرانیان » موسس کدام شاخه از علوم اسلامی در تمدن بزرگ اسلامی بوده اند ؟\\n\\nعلوم دستوری و زبان. ۱ علم حدیث \\u200f اصول فقه علم لغت\\n\\nخوارزمشاهیان عباسیان \\u200e (\\u200f غزنویان ! برمکیان\\n\\n۳/۸\\n\\n٩0620060 ۱۷۷۱۱ ۲\\n\\x0c۴. ایرانیان در توسعه و پیشرفت کدام رشته از علوم و معارف اسلامی . سهم بیشتری نسبت به رشته های دیگر دارند؟\\n\\n۹4 ۱ 4\\nادبیات ققه ۱ قلسفه ! تفسیر\\n\\n۵ کیفیت دسترسی به بهداشت و درمان و شاخص امید به زندگی در سال های پس از انقلاب اسلامی ایران است ؟\\n\\nکم - زیاد زیاد - کم . زیاد - زیاد - | کم - کم\\n\\n: 3 وه ۱\\n\\nخطوط رل ۰ ۲7 بوده نمی ۰ صنیع یی ۰ [7پیشرقت تم\\n۷. در سایه توجه فرهنگ اسلامی به علم و گشترش آن تعداد فارغ التحصیلان دانشگاهی پس از انقلاب اسلامی تا چه میزان رشد\\nداشته است ؟\\n\\n۱\\n۵یرابر ۰۱ ۲ ۱۰ برایرم ۲۰برابر ۲برایر\\n\\n۸ گذشت یش . دوس توسعه انسانی \"سال از انقلاب اسلامی رتبه جهانی ایران در رشد کدام است ؟\\n\\n\\u200e٩\\u200f بالاترین رتبه علمی ايران در میان کشورهای جهان مربوط به کد\\n\\n\\u200f| » علوم ژنتیک و سلول های بنیادین ! علوم عضاین و هواوضا علوم تهردم ۱ ۰7۲ سپ\\n\\n\\u200fعلوم بیوشیمی و زیست مولکولی ۵۷۷ 5\\n\\n\\u200f۰ تربیت رسمی و عمومی \"در شکل فعلی آن\" یکی از مظاهر مدرنیته است \\u200f کدام رویکرد در مواجهه با آن تناسب بیشتری با\\nراهبردهای کلان اسناد بالادستی تربیتی دارد؟\\n\\n\\u200fشریعت گرا 7 تمدن ساز ! تجددگرا سنت گرا\\n\\n\\u200fربوبیت هدایت ۰ نفی سبیل , بیداری اسلامی\\n\\n\\u200f۳ بر اساس کدام اصل قفلسفی روندهای کلان تغییرات اجتماعی توسط نهاد تربیت رسمی و عمومی منجر به انسجام اجتماعی و\\nتمایزیافتگی می شود ؟\\n\\n\\u200fتصرف تحول افرینی دین مداری ۱ سامان یافتگی \\u200f\\n\\n\\u200e٩0620060 ۱۷۷۱۱ ۲\\n\\x0c۴ تنوع بخشی به فرصت های تربیتی متناسب با استعدادهای مختلف متربیان از اصول تربیت رسمی و عمومی است ؟\\n\\n۱ عدالت در تربیت ! تنوع و کثرت رعایت استعداد متربیان انطباق با نظام اسلامی\\n\\n۵ کدام مورد در خصوص اصل حفظ و ارتقای آزادی در تربیت رسمی و عمومی صحیح نیست ؟\\nآزادی ا ۰ است ازادی | یادگرفتنی است ۲۰ آزادی متربی به معنای \"آزادی از\" است \"\\nرادی امری فطری زادی امری اد ترفنتی ۰ ارادی متربی ر ی ازادی از ۱\\n\\nآزادی متربی به معنای \"آزادی ره\" است\\n\\n۶ کدام یک از موارد زیر جزو اصل آینده نگری و پویایی در تربیت رسمی و عمومی است ؟\\n\\nنظارت متقابل ارکان نظام تربیت رسمی و عمومی در جهت پشتیبانی از نظام\\n\\nرعایت حقوق و تکریم متربیان در عین مسئولیت پذیری آن ها نگرش نظام مند در هدایت تحولات تربیتی\\n\\n۷ عبارت زیر به کدام مورد اشاره دارد \"زمینه اجتماعی سامان یافته ای برای تحقق حیات طیبه است که امکان تجربه این نوع زندگانی را\\nبرای همه متربیان فراهم می آورد\"\\n\\nجامعه صالح خانواده صالح\\n\\n0 ۰ ۰ ۰ ِ\\u200c ه ۱\\nحرکت از الزام بیرونی به التزام شخصی + توازن میان مربی محوری و متربی محوری/\\n\\nحرکت از اصلاح ظاهر به تحول باطن حرکت از اصلاح فردی به اصلاح جمعی\\n\\n\\u200e٩\\u200f مهمترین جهت گیری حاکم بر ساحت تربیت زیستی و بدنی کدام است ؟\\n\\n\\u200fتعامل نفس و بدن! همگرایی تعامل خانواده و رسانه . تعامل دین و اخلاق\\n\\n\\u200f۰ نشانه دانستن طبیعت در ساحت تربیت هنری بر کدام مطلب دلالت دارد ؟\\n\\n\\u200fحفظ طبیعت برای آیندگان شناخت خالق جهان و شکرگزاری از وی استفاده صحیح از طبیعت\\n\\n\\u200f۱ در خصوص تربیت علمی و فناوری از منظر تربیت اسلامی کدام مورد صحیح است ؟\\n\\n\\u200fاستفاده از تکنولوژی غربی صحیح نیست تکنولوژی حامل فرهنگ و ارزش ها نیست\\n۱ انسان مخدوم تکنولوژی است؛ \\u200f تکنولوژی مخدوم انسان است\\n۴/۸\\n\\n\\u200e٩0620060 ۱۷۷۱۱ ۲\\n\\x0c۳ بر اساس فلسفه تربیت رسمی و عمومی در جمهوری اسلامی ایران کدام مورد در خصوص نسبت خانواده و حاکمیت در تربیت\\nصحیح تر است ؟\\n\\nتربیت حق حاکمیت است و هدف گذاری » سیاست گذای و برنامه ریزی تربیت رسمی با آن است\\n\\nرابطه حاکمیت و خانواده در تربیت رسمی و عمومی . رابطه عرضی عرضی و تعاملی با یکدیگر است\\n\\nتربیت حق خانوده است و حاکمیت بابد از خواسته های آنان در تربیت پیروی کند\\n\\nات 1 لزوم ۲ تاریخمندی\" تریبیت رسمی و عمومی به کدام مورد اشاره دارد ؟\\n\\nتوجه به سنت و فرهنگ های پیشین انفحال فرهنگی نسبت به دیگر فرهنگها\\n( . تناسب با مقتضیات زمان و مکان| تحلیل زمانی و مکانی وقایع تاریخی\\n\\n۴. فروکاستن یادگیری به یادسپاری محتوای مشخص و همچنین فروکاستن مفهوم شایستگی به توسعه بعد شناختی متربیان « به\\nکدام معضل اشاره دارد ؟\\n\\n  \\n\\n9 تربیتی مدرک گرایی از خودبیگانگی ,6 حافظه گرایی؛\\n۰۳۵ ۳ ی ریت رس می است ؟\\n\" تامین رفاه هدف اصلی دولت | صلی ز ۱ سزی برای حیات طیبه است\\n\\nجامعه شناختی \\u200f \"7 روان شناختی رن ۳ ۳ ۸ ۹\\n\\n۶ حدیث معروف پیامبراکرم \"ص\" که می فرمایند \" دوستی وطن از ایمان است \" به کدام لایه از هویت ۹« ضف<\\n\\n. ۰ ۱ ۱ ات\\nدینی انسانی ۱ : جیسینی\\n\\nفرآیند تحاملی | ۰ به روز و کارآمد/ اختیاری و آگاهانه زمینه ساز تکوین هویت\\n\\n۱ توجه به هویت ملی و انسجام اجتماعی| توجه به میراث غنی ادبیات فارسی\\n\\nتاکید بر هویت انسانی . ایرانی و اسلامی تفکیک دین و سیایت و حق و تکلیف\\n\\n\\u200e٩\\u200f ساحت تربیت اقتصادی ناظر به رشد توانایی های متربی در تدبیر امر معحاش است؛ کدام مورد زیر در این قلمرو نمی گنجد ؟\\n\\n\\u200f۱ گسترش عدالت اجتماعی! شناخت و مهاررت حرفه ای ادراک مسائل اقتصادی رعایت بهره وری\\n\\n\\u200e۵۱۸\\n\\n\\u200e٩0620060 ۱۷۷۱۱ ۲\\n\\x0c۰ خداوند در آیات قرآن به افراد باایمان که به تعهدات خود عمل کنند و مسئولیت را بپذیرند وعده داده است که آن ها را در زمین\\n\\nجانشین قرار دهد تا به ۰۰.۰۰۰ پرستند و در سایه آن بتوانند ...را محقق نمایند .\\nب 1 ۱2\\nحکومت - عدالت آرامش - عدالت امنیت - بندگی خدا. ! حکومت - بندگی خدا\\n\\nبرخورداری از تکیه گاه مطمتن - هدایت شدن - انتقال سریح به آخرت\\n\\nبرخورداری از مدد الهی - رهایی از سختی ها - برخورداری از حمایت ها\\n\\nپیروزی بر دشمن - قابل بخشش بودن لغزش ها - برخورداری از شفاعت\\n۲ ایمان همراه با -------- امنیت به همراه می آورد ؟\\n\\nتقوا تلاش ۱ ۲ تعهد , عدالت\\n\\nبه پاداشتن نماز در جامعه خواندن نماز تشویق به جا آوردن نماز\\n\\n۴ از آیه شریفه و اطیعواه ال و الرسول لعلکم ترحمون\" مستفاد می شود : زمانی که یک ملت از اسارت ها و زنجیرها آزاد می شود به\\n\\nرشد انسانی می رسد و رحمت خداوند شامل حالش می گردد که ی\\nایمان واقعی داشته باشد \\u200e (\\u200f به مسئولیتش عمل کند! با دشمنان مبارزه داشته باشد\\n\\nمنتظر امداد الهی باشد و خود در میدان عمل حاضر شود\\n\\n۵ کدام آیه شریفه موید پیام زیر است ؟ \"ایمان باید از روی شعور ء آگاهی و فهم باشد و نه کورکورانه و از روی تقلید \"\\n\\nربنا اننا سمعنا منادیا ینادی لالیمان ۲ . انما المومنون الذین اذا ذکر اهلل و وجلت قلوبهم!\\n\\nاولئک هم المومنون حقا لهم درجات عند ربهم ۰ \" و من الناس من یقول آمنا بالله بالیوم اآلخر و ما هم بمونین\\n\\nاقرار زبانی و قلبی !۱ . باور آگاهانه! 7 دل پاک و عمل پاک 7 باور و دل پاک\\n۳\\n\\n۷. از همه چیز دست شستن به خاطر هدف . به خاطر پیوستن به جامعه اسلامی و به خاطر قبول تعهد در مجموعه تشکیلات جامعه\\nاسلامی \" مفهوم کدام یک از عناوین زیر است؟\\n\\nانفاق ایثار جهاد ۱ . هجرت /\\n\\n۶۱۸\\n\\n٩0620060 ۱۷۷۱۱ ۲\\n\\x0c۸ معادن \\u200f ثروت های زیرزمینی» مراتح و جنگل ها ء مصداق کدام مورد زیر است ؟\\n\\nانفال انفاق صدقات بیت المال\\n\\n۹ گله مندی رهبر انقلاب در سخنرانی های سال ۱۳۸۵۳ در مسجد امام حسن مجتبیع در مشهد ۰ جهت تکثیر محدوده پلی کپی های\\nآیات قرآن نشان دهنده کدام یک از موارد زیر است ؟\\n\\n( . عدم همکاری مومنین| کمبود امکانات ملاحظه شهربانی صرفه جویی\\n\\n۱ . ترویج فرهنگ همزیستی مسالمت آمیز! جلوگیری از جنگ هاق مذهبی و قبیله ای\\n\\nحجاج بن یوسف هشام بن عبدالمک اِ عبدالمک مروان ! منصور دوانیقی\\n\\nبه ضورت کامل قابل محو شدن نیست 6۱ محکوم به رشد کردن است! دلالت بر حقانیت آن فکر است\\n\\u200c\\n\\nمحکوم به شکست است\\n\\n۵ در خصوص احیای مبانی فکری اسلام و تشکیل و اداره یک حزب مذهبی و سیاسی کدام مورد صحیح است ؟\\n\\n۱ لازمه بقای اسلام بود! از اقدامات امام باقر است یک ضروزت اچتتاب ناپذیر بود\\n\\nاز اقدامات امام سچاد است.\\n\\n۶ منظور از کلمه \"سد \"در قرآن کریم هنگام مقابله میان مومنین و یاجوج و ماجوج ها چیست ؟\\n\\n۱ ۳۹ ۳ ۰\\nب . تقیه ! ایمان جهاد پیروزی\\n\\n۷/۸\\n\\n٩0620060 ۱۷۷۱۱ ۲\\n\\x0c۷ مخاطب شعر دعبل خزایی \" | فاطم لو خلت الحسین مجدلال / و قد مات عطشانا بشط فرات\" در محضر امام رضاع. کدام یک از\\nافراد زیر است ؟\\n\\nاسرای کربلا شهدای کربلا امام رضا ع 1 حضرت فاطمه س /\\n\\nحمایت نکردن دوستان 7۱ ) تفمت\"های حکعفت های ظالم ! غفلت مردم قیام های نابه جا و تندروانه\\n\\u200c\\n\\n\\u200e٩\\u200f کدام مورد در خصوص استفاده از لفظ \" باب اتمه \"صحیح است ؟\\nبرای کسانی که هميشه در خدمت امام معصوم بودند به کار می رقت\\n\\n\\u200f۱ حال الان او وضعیت گذشته او هر کس را که ایشان حکم نموده اند\\n\\n\\u200f۶۳۲ مخاطب وصیت نامه سیاسی امام خمینی چه کسانی هستند؟\\n\\n\\u200fجمیح مردم ایران و استادان و عالمان جهان جمیح مومنین اسلامی و مومنان مظلوم جهان\\n\\n\\u200f۱\\n\\u200fجمیح مجاهدان اسلام و مظلومان جهان + جمیع ملل اسلامی و مظلومان جهان؛\\n\\n\\u200f۴ از توطئه های بزرگ دشمنان سعی در به دست گرفتن کدام مراکز زیر است؟\\n\\n\\u200fدولت و مجلس شورای اسلامی مجلس شورای اسلامی و مجلس خبرگان ( . تعلیم و تربیت |\\n\\n\\u200fپادگانها 9 مراکز حساس اقتصادی\\n\\n\\u200f۵ توصیه هایی که حضرت امام خمینی به دولت و ملت ایران کردند. به ترتیب کدام اند؟\\n\\n\\u200f| . خدمتگزاری به مردم - ثابت قدم بودن| رعایت بیت المال - ثابت قدم بودن تقوای الهی - ثابت قدم بودن\\n\\n\\u200fخدمتگزاری - تقوای الهی\\n\\n\\u200e۸۳/۸\\n\\n\\u200e٩0620060 ۱۷۷۱۱ ۲\\n\\x0c۶ مهم ترین عاملی که اقتصاد کشور را از بیرون و درون دچار چالش می سازدء کدام است؟\\n\\n۹\\nوابستگی به نفت عدم استفاده از جوانان موّمن و دانا تحریم دشمن ۰ عملکردهای ضعیف!\\n\\n! . دانش! ثروت جهاد علمی و اخلاقی دانش و ایمان\\n\\n۳\\n(_\" نیروی کارامد موّمن و عالم با روحیه جهادی| محققان علمی فرهنگی منابع خام و عظیم\\n\\n۷۰ صرح سر اي که درا گام دوم انقلاب است توسط مقام معظم مورد خطاب واقع شده اند. چه کسانی هستند؟\\n\\nای 5 آدررزه دانشگاه انقلاب ۰۱ جوانان !\\nو رس\\nعلت ماندگاری شعارهای جهانی انقلاب ایران چیست؟ دیدن \"\\nرد\\n\\nِ 5 چا و او و و و وا و ام چا و مات جاح\\nانقلابی بودن شمارهای ان ۱ تحقیق شعارهای با فطرت بشر در ۵ و ۷12\\n\\nکسب موفقیتهای چهل ساله\\n\\n۳۲ در بیانیه گام دوم انقلاب نخستین و ريشه ای ترین جهاد برای جوانان چه چیز معرفی شده است؟\\n\\nپرهیز از سیاست بازی تقویت اخلاق و روحیه ایمان قطح وابستگی به غرب و شرق\\nمیدبخشی و نگاه خوش بینانه به اینده,\\n\\n۳ ۱ ی ۱ و ۳\\nمردمی شدن دانش بنیان شدن و برون گرایی اقتصاد ز درون زایی مولد و دانش بنیان و مردمی کردن اقتصاد/\\n\\nتصدی گری »دولت دانش بنیان شدن و برون گرایی اقتصاد\\n\\nتصدی گری دولت مردمی کردن اقتصاد و بهره وری مبتنی بر اقتصاد نفتی\\n\\n۴ مسئولیت نظارت بر انتخابات ریاست جمهوری بر عهده کدام نهاد است؟\\n\\n۰ تب تج + ۰ ِ ۱ \\u200c مه 2 تِ ۶\\nوزارت کشور مجلس شورای اسلامی \\u200e .\\u200f . شورای نگهبان/ شورای منتخب مجلس و قوه قضائیه\\n\\n۹/۱۸\\n\\n٩0620060 ۱۷۷۱۱ ۲\\n\\x0c۵ براساس اصل شانزدهم قانون اساسی تدریس زبان عربی مقطح تحصیلی الزامی است؟\\n\\nدوره دانشگاه در کلیه رشته ها دوره ابتدایی\\n\\nدوره دوم متوسطه\\n\\n۶ طبق قانون اساسی کدام مورد جزو وظایف دولت محسوب میشود؟\\nتهیه وسایل آموزش عالی به صورت رایگان با سطح کارشناسی\\nتهیه وسایل آموزش و پرورش و آموزش عالی در کلیه سطوح و مقاطع به صورت رایگان\\n\\nتهیه وسایل آموزش و پرورش رایگان تا پایان دوره ابتدایی و گسترش وسایل تحصیلات عالی تا سرحد خود کفایی کشور\\n\\nتوسط مجمح تشخیص مصلحت نظام تهیه و تصویب می شود\\n\\nتوسط سازمان برنامه و بودجه کشور تهیه و تصویب میشود توسط مجلس شورای اسلامی تهیه و تصو می شود\\n\\n۸ هرگونه شکایت از طرز کار قوای سه گانه کشور» در کدام مرجع قابل طرح و پیگیری است؟\\n\\nدیوان عالی کشور دادگاه های دادگستری دیوان محاسبات کشور\\n\\n۳۹ ۳ و 1 تَ- ۳ ۳\\nشرح و تفسیر اصول قانون اساسی ۱ نظارت بر حسن اجرای قوانین ! عفو و تخفیف مجازات محکومین\\n\\nصلح دعاوی راجح به اموال و دولتی\\n\\n \\n\\n۸۰ اسناد_ و قوانین بالا دستی آموزشو پرورش\\n۱- مطابق با سند تحول بنیادین آموزش و پرورش, بایدها و نبایدهایی که الزم است تمام اجزا و مولفه های نظام تعلیم و تربیت رسمی و\\nعمومی » هماهنگ با آنها بوده و همه سیاست گذاران و کارگذاران نظام ملتزم و پاینده به آنها باشند چه نام دارد؟\\n\\n| . بیانیه ارزشها بیانیه مآموریت هدف های عملیاتی راهبردهای کلان\\n\\n۱۰/۸\\n\\n٩0620060 ۱۷۷۱۱ ۲\\n\\x0c۱ کدامیک از راهبردهای کلان بیان شده در سند تحول بنیادین آموزش و پرورش . با تمامی هدف های کلان ذکر شده در اين سند »\\nمرتبط است؟\\n\\nنهادینه کردن نگاه یکپارچه به فرایند تحلیم و تربیت با رویکرد تحالی بخش در کلیه مولفه های نظام تحلیم و تربیت رسمی و\\nعمومی\\n\\nگسترش و تعمیق فرهنگ پژوهش و ارزشیابی » خالقیت و نو آوری . نظریه پردازی و مستند سازی تجربیات علمی . تربیتی\\n\\nبهره مندی هوشمندانه از فناوری نوین در نظام تعلیم و تربیت رسمی و عمومی مبتنی بر نظام معیار اسلامی\\n\\n۳ مطابق با سند تحول بنیادین آموزش و پرورش ۰ متناسب سازی حجم و محتوای کتب درسی و ساعات و روزهای آموزشی . با کدام\\nمورد زیر باید صورت گیرد؟\\n\\nامکانات و فضای آموزشی مدارس : توانمندی های و ویژگی های دانش آموزان!\\n\\nنظرات مسئولین نظام آموزش و پرورش بودجه و منابع مالی وزارت آموزش و پرورش\\n\\n۳ طبق سند تحول بنیادین آموزش و پرورش , تقویت و گسترش مدارس غیر دولتی با اصلاح و بازنگری قوانین و مقررات موجود \\u200f به\\nعنوان راهکار برای کدام رز اف طای عمقنات تکرشیه انسج؟\\n\\nنی با تاکید بر نقش الگویی و جایگاه معلم\\n\\nایجاد و متناسب سازی فضاهای تربیتی با ویژگی نیازهای دانش آموزان و اقتضائات فرهنگ اسلامی . ایرانی\\n\\nارتقای منزلت اجتماعی و خایگاه\\n\\n \\n\\nو ۰ و ۰ ء\\u200c مب ۰ \"۳ ۰ ه \\u200c\\u200c\\nافزایش نقش شوراهای اموزش و پرورش استان» مناطق و مدارس در تعورٍ : :\\nو عمومی|\\n\\n1\" جلب مشارکت ارکان سهیم و موثر بخش عمومی و غیر دولتی در تعلیم و تربیت رسمی و عمومیا \\u200f پ ۷ 5\\n۰\\n\\n۴ مطابق با سند تحول بنیادین آموزش و پرورش به ترتیب برای \"گذر از دوره تحصیلی\". \"ارتقای پایه های تحصیلی دوره ابتدایی و\\n\"ارتقای پایه های تحصیلی در سایر دوره های تحصیلی\". کدام نظام ارزشیابی باید طراحی و اجرا شود؟\\n\\nنتیجه محور . فرایند محور . تلفیقی تلفیقی . نتیجه محور . فرایند محور | . فرایند محور . تلفیقی . نتیجه محور/\\n\\nتلفیقی . فرایند محور . نتيجه محور\\n\\n۵ مطابق با سند تحول بنیادین آموزش و پرورش کدام نهاد موظف است با تربیت» به کار گیری و سازماندهی نیروهای توانمند و واجد\\nشرایطء تامین و بسیج امکانات و منابح» تدوین برنامه های اجرایی کوتاه مدت و میان مدت در سطح ملی و استانی و....اقدامات الزم\\n\\nبرای نمی مفاد سند مذکور ر معمول دارد؟\\n\\nشورای عالی انقلاب فرهنگی تمامی دستگاه ها و نهاد های دولتی شورای عالی آموزش و پروروش\\n\\n۱۳۸\\n\\n٩0620060 ۱۷۷۱۱ ۲\\n\\x0c۶. نحوه ترمیم و بروزرسانی سند تحول بنیادین آموزش و پرورش به کدام صورت زیر است؟\\n\\nدر بازه های زمانی ۳ ساله از تاریخ اجرای سند. پس از تصویب شورای عالی آموزش و پرورش به تصویب نهایی وزارت آموزش\\nو پرورش\\n( . در بازه های زمانی ۵ ساله از تاریخ تصویب سند. پس از تصویب شورای عالی آموزش و پرورش به تصویب نهایی شورای \\u200e .\\u200f\\n\\u200f!عالی انقلاب فرهنگی\\n\\nدر بازه های زمانی ۳ ساله از تاریخ تصویب سند» پس از تصویب وزارت آموزش و پرورش به تصویب نهایی هیئت وزیران\\n\\nدر باره های زمانی ۵ ساله از تاریخ اجرای سند پس از تصویب شورای عالی انقلاب فرهنگی به تصویب نهایی هیئّت وزیران\\n\\n۷ مطابق با سیاست های کلی ایجاد تحول در نظام آموزش و پرورش, برای ایجاد تحول در نظام برنامه ریزی آموزشی و درسی, بر رعایت\\nکدام رویکرد تاکید شده است؟\\n\\nّ 03 س 1 ۰ ِ ت ۰\\nاقتصادی و اجتماعی سیاسی و اجتماعی + فرهنگی و تربیتی فرهنگی و سیاسی\\n\\n۸ مطابق با سیاست های کلی ایجاد تحول در نظام آموزش و پرورش. به منظور شناسایی نقاط قوت و ضعف و پرورش استعداد ها و\\nخلاقیت دانش اموزان بر کدام مورد تاکید شده است؟\\n\\nود ی ی | ار ان ۰ .\\n\\u200e (\\u200f تحول بنيادین شیوه های ارزشیابی دانش آموزان؛ تقویت آموزش های فنی و حرفه ای\\nتقویت آداب و مهارت های زندگی و توانایی حل مسئله توسعه فرهنگ و معارف اسلامی و یادگیری قران\\n\\n\\u200e٩\\u200f مطابق با آیین اجرایی مدارس, کدام مورد در خصوص چرخش های تحول آفرین مدرسه صحیح است؟\\nاز پذیرش تنوع و کثرت در تربیت دانش آموزان به یکسان نگری در تربیت آن ها\\nاز سازگاری با شرایط محیطی به هویت یابی و مقاومت در برابر شرایط نامساعد و تغییر آنها\\nاز رفاقت های جمعی دانش آموزان به رقابت های فردی میان آنها\\nاز نهادی فرهنگی اجتماعی و مولد سرمایه انسانی به نهادی آموزشی\\n\\n\\u200f۰ مطابق با تبصره یک آیین نامه اجرایی مدارس تشخیص موجه و غیر موجه بودن غیبت دانش آموز به ترتیب کمتر از یک ماه و بیشتراز\\nیک ماه با کدام مورد است؟\\n\\n\\u200fمعاونت آموزش ابتدایی شهرستان _اداره کل آموزش وپرورش استان\\n\\n\\u200f11 ین \\u200c \\u200c ۲ 1 ه 5 \\u200c ۳ ۳ ً \\u200c 1\\nاداره کل آموزش و پرورش شهرستان_اداره آموزش و پرورش منطقه گزینه \\u200f مدیر مدرسه_شورای مدرسه,\\n\\n\\u200fشورای مدرسه _معاونت آموزش ابتدایی\\n\\n\\u200f۱ مطابق با آیین نامه مدارس مسئولیت برنامه ریزی برای ارزشیابی پیشرفت تحصیلی تربیتی دانش آموزان و نظارت بر آن بر عهده\\n\\n\\u200f۱ ۳\\n۱ معلم_شورای مدرسه, مدیرمدرسه- شورای مدرسه معحلم _مدیر مدرسه مدیر مدرسه_مدیر مدرس ه\\n\\n\\u200e۱۳/۸\\n\\n\\u200e٩0620060 ۱۷۷۱۱ ۲\\n\\x0c۳۲ مطابق با آیین نامه اجرایی وظیفه شناسایی و تعیین نیا زهای پژوهشی مدرسه بر عهده کدام مورد است\\n\\nشورای مدرسه باهمکاری انجمن اولیا و مربیان شورای مدرسه\\n\\nشورای مدرسه باهمکاری شورای دانش آموزی\\n\\n۳۳0 ٩\\n\\u200fتوالی ! ترکیب مداومت\\u200e ۱\\n\\n۴ هدف زیر در کدام سطح از اهداف بلوم است ؟\\n\"دانش آموز بتواند با ذکر دلایل و شواهد درباره اهمیت زبان فارسی قضاوت کند\"\\n\\n۰\\nتحلیل ترکیب ۰ . ارزشیایی | شناخت\\n\\n۹۵ در خصوص هدف زير کدام گزینه درست است ؟ \" دانش آمو ز در درس علوم تجربی با مبحث شکست نو اشنا شود\\n\\nهدف رفتاری است » ولی سطح اجرای دقیق آن تعیین نشده است.\\n\\nها است ؛ ولی موقعیتی که رفتار باید در آن مشاهده شود» مشخص نشده است. :\\n\\n۶ دانش آموز ی که مردود شدن خود را تسه از روی سوگیری نسبت میدهد دارای کدام منبع اسناد\\nِ ِ_ \" ت\\n\\nاست؟\\n\\n\\u200c 1 بیرمتی وان کتقرل درونی و غیرقابل کنترل ر 7 :\\n29\\n\\n۷ کدامیک از موارد زیر صحیح است؟\\n\\nارسال پيامها ی غیرکلامی معمولا ارادی است. *\" پیچیدگی ارتباط غیرکلامی کمتر از کلامی است\\n\\nی ی ی ی ی ی ی ی ی ی\\nمه 1\\n+\\n\\nمها ی غیرکلامی معمولا صریح و روشن هستند ولی نسبت به پیامها ی کلامی کمتر قابلاعتمادند\\n\\n#4 کدام رفتار زیر \"رفتار نامطلوب ضعیف\" است ؟\\nو موز فد ۳\\nاحسان دانش آموز پایه چهارم در کلاس همکلاسی خود را غلغلک میدهد\\n\\nدانش آموز پایه ششم در حین تدریس معلم مداد خود را روی میز م یکوبد و صدا درمیاورد.\\nرضا دانشآموز پایه دوم بدون دلیل در کلاس شروع به خندیدن نموده و حواس دیگران را پرت میکند\\n\\n9 کدامیک از صاحبنظران زیر بر اهمیت تفکر شهودی تأکید کرده است؟\\n\\nبندور اسکینر ز . برونر تابا\\n\\n۱۳/۸\\n\\n٩0620060 ۱۷۷۱۱ ۲\\n\\x0c.1 کدام مورد در خصوص انواع الگوهای تدریس صحیح است؟\\nالگوهای تدریس خانواده فردی برای هدایت دانش آموزان در تعریف مسائل تدوین شده است و به رشد اجتماعی نایل شود\\n\\nبا کمک الگوهای تدریس خانواده سیستم رفتاری میتوان دامنه وسیعی از مهارتهای اساسی به یادگیرندگان مختلف را یاد\\nداد\\n\\nالگوی پیش سازمان دهنده برای دانش آموزان سنین بالاتر و مستقل از ساير الگوها کاربرد دارد\\n\\n۱ کدامیک از مراحل الگوی دریافت مفهوم دانش آموزان در خصوص نقش فرضیه ها و نمودها و نوع و تعداد فرضیه ها به بحث\\n\\nمیپردازند؟\\n\\n: 2 ۳ ۱ « ِ ۰1 ۳ :\\nشناسایی مفهوم ارائه مثال ۱ تحلیل راهبردهای تفکر/ آزمون دستیابی به مفهوم\\n\\n۳۲ قلب الگوی تدریس آموزش مستقیم کدام است؟\\n\\nفعالیتها ی تمرینی فناوری اطلاعات ؟ \\u200f ارائه مطالب! هدفگذار ی\\n\\nتوجه دارد؟\\n\\n۷۱ پرسش پاسخ! پیش سازمان دهنده غیرمستقیم سخنرانی\\n\\n۴ در خصوص رویکرد یادگیری الکترونیکی کدام مورد صحیح نیست؟\\n\\nمیتواند مجموعها ی از روشها ی آموزشی را در برداشته باشد\\n\\n: نسبت به تفاوت های فردی یادگیرندگان بی توجه است! مبتنی بر تلاش و کوشش خود یادگیرنده است\\n\\nجدیدترین اطلاعات همراه است.\\n\\n۵ همدلی و احترام از آثار مستقیم کدامیک از الگوهای تدریس است؟\\n\\n۱ ۰ ۰۰\\n+ . ایفای نقش: بدیح گرا شبیه سازی پژوهش گروهی\\n\\n.۰ کدام مورد در خصوص الگوی تدریس کاوشگری صحیح نیست؟\\n\\nمیان مدرسه وزندگی واقحی پیوند ایجاد میکند تفکر منطقی را در یادگیرنده تقویت میکند\\n\\nروح همکاری و تحامل میان یادگیرندگان را تقویت میکند.\\n\\n۱۳/۸\\n\\n٩0620060 ۱۷۷۱۱ ۲\\n\\x0c۷ عبارت زیر به ترتیب اشاره به کدام مفهوم دارد و مربوط به کدام نظریه یادگیری است\\n\"ایتدا معلم سهم عمدهای | ز مسئولیت را بر عهده می گیرد و به تدریج که یادگیری بیش می رود مسئولیت به یادگیرنده واگذار میشود \"\\n\\nنت ففانقت- کنارف بااتضادیتمامی- رنه شتافتن برمیر یادگیری اکتشافی - تحول شناختی پیاژه\\n\\n۸. عبارت زیر در توصیف و تمجید کدامیک از نظریه های یادگیری مطرح شده است؟\\nاین نظریه برای معلمان دارای اهمیت است. زیر | تبین های مفیدی از چگونگی ایجاد پاسخها نگرش\\nهای دانش آموزان در اختیار معلمان میگذارد\\nو سر \\u200c\\u200c ۰ 4 \\u200c# هم 9 \\u200cِِ ۰ 4\\nب. شرطی سازی کلاسیک/ شرطی سازی کنشگر شاختی - اجتماعی تحول شناختی\\n۹ بنا بر اعتقاد» آزوبل مشمول کننده هایی که ناپایدار مبهم یا کم ارتباط هستند یا آن دسته یادگیری که قدرت تمیز چندانی ندارند یا\\nبه خوبی آموخته نشدهاند دچار کدام شمول می شوند؟\\n\\n۱ 5 ۹\\nارتباطی اشتقاقی همبستگی + زوالی |\\n\\n۰ کدا از راهبردهای بسط و گسترش معنایی» ویژه مطالب پیچیده است؟\\nِِ- ۳7 زی ذه: استفاده از واسطه ها\\nمت رت تیاه\\n۰\\n۱ کدامیک از نمونه های رفتاری زیر جز هوش میان فردی درنظریه هوش ارت است ؟ ۳۳ ۱\\n\\nتجسم امورمختلف درذهن ۲ . تشخیص مقاصد وامیال دیگران! \"\" حل کردن مسائل رم ت 9\\n6\\n\\nحساسیت داشتن نسبت به کارکردهای مختلف زبان\\n\\n۳ تعریف زیرء,بیانگرکدامیک از روشهای حل مساله است؟ \"شیوه تولیدراه حل های متنوع و متفاوت برای یک مساله در یک زمان معین\\n\\nتازگی سیالی ( . انعطاف پذیری| پیچیدگی\\n\\nرفتار و عملکرد عملکرد و تفکر \\u200f . یادگیری و عملکرد/ تفکر و یادگیر ی\\n\\n۱۵/۱۸\\n\\n٩0620060 ۱۷۷۱۱ ۲\\n\\x0c۵. با توجه به نظریه رشد شناختی پیاژه کدام موارد زیر صحیح است؟\\n\\nانطباق یعنی اینکه فرد در موقعیتی تازه رفتاری انجام دهد که در موقحیت های گذشته انجام می داده است .\\nدر مرحله پیش عملیاتی » کودکان به مفهوم بقا یا نگهداری دست پیدا میکنند.\\n\\nکودکان در مرحله عملیات عملیاتی قادر به کاربستن تفکر عملی مبتنی بر روش فرضیه ای -قیاسی هستند .\\n\\n۶. ببنا بر نظر نوپیاژهای ها یا پیروان نظریه های خبر پردازی رشد یا تحول در نتیجه چیست ؟\\n\\n1 ۰ ۰ ۰ ۶\\nافزایش توانایی پردازش اطلاعات! فرایند جدذب و انطباق تأثیرات محیط فرهنگی - اجتماعی\\n\\u200c\\n\\nتغییرات حاصل از ساخته ای ذهنی و طرحواره ها\\n\\n۷. طبق نظریه ویگوتسکی . کدام مورد در خصوص کارکردهای عالی ذهن » صحیح است؟\\n\\n۳ 1۱\\nدر سالهای آغاز عمر» به طور طبیعی وجود دارند ۱ به کمک ابزارهای روانشناختی رخ می دهند. |\\n\\nمحض انسان نیستند تحت کنترل انسان نیستند\\n\\n۸. معلم پایه ششم دانش آموزانی که در کلاس نسبت به درس بی توجه هستند مورد سرزنش قرار میدهد همین موضوع باعث میشود\\nدانش آموزان دیگر به درس توجه بیشتری نشان دهند این موضوع اشاره به کدام مفهوم دارد؟\\n\\n۳\\nتقویت منفی نظم دهی یادگیری نهادینه ۲ تنبیه جانبی/\\n\\n۱ بیشترین توانایی را در انجام کارها دارند! در توانایی تخیل » قوی هستند.\\n\\nدر تولید انديشة و دیدن امور از ژوایای مختلف توانا هستند اغلنب فر خل.مساال: از شقوف استفاقه انمنکتنک\\n\\n۰ چند مورد از موارد زیر در خصوص حافظه و انواع آن صحیح است و آن موارد کدام اند؟\\nبزرگترین محدودیت حافظه کوتاه مدت ماهیت غیر فعال آن است\\nحافظه واکنش های هیجانی. یکی از انواع حافظه های کوتاه مدت است\\n\\nبیانی برخلاف حافظه غیر بیانی وابسته به یادآوری فعال یادگیری های قبلی نیست.\\n\\n۱ طبق کدامیک از موارد زیر از فحالیتهایی که کودکان دوست دارند انجام دهند. میتوان به عنوان تقویت کننده برای فحالیتهایی که\\nکمتر به آنها میپردازند » استفاده کرد؟\\n\\nتقویت کننده پته ای 7۱ تقویت کننده پریماک\\n\\u200c\\n\\nتقویت کننده های اجتماعی تقویت کننده های نخستین\\n\\n۱۶/۱۸\\n\\n٩0620060 ۱۷۷۱۱ ۲\\n\\x0c۳ کدام توصیه در خصوص قواعد تهیه و اجرای پرسشنامه های سنجچش عواطف» صحیح است؟\\n\\n۱ از نوشتن جمله ها ی منفی پرهیز کتید! تعداد سوال ها تاحد امکان زیاد باشد\\n۷\"\\n\\nدرهرجمله یا سوال پرسشنامه بیشتر از یک اندیشه قرار دهید\\n\\nجمله هایی بنویسید که معرف واقحیت ها باشند نه عواطف\\n\\n۳ در کدام شیوه سنجش معلم میتواند در طول یک دوره زمانی دیدگاهی طولی از رشد و الگوهای تغییر دانش آموزان به دست آورد ؟\\n\\nتکوینی نهان یایی ! . واقعه نگاری/ موقعیتی\\n\\n۴ در روشهای سنجش مستقیم که رفتار به طور بی واسطه و مستقیم مورد سنجش قرار در کدامیک از موارد زیر جزو روشهای سنجش\\nرفتاری نیست؟\\n\\nسنجش نهان یایی اندازه گیری عملکرد موقحیتی ایفای نقش ۰ کار پوشه /\\n\\n۵. در سنجش موقعیتی کدام مورد اصلی ترین ابزار اندازه گیری است ؟\\n\\nدی : مقیاس درجه بندی \" \\u200c مشاهده: واقحه نگاری\\n\\n۶ معلمی به دلیل تعطیلی ا ر پر زهای زمستان از دانش آموزان خود خواست حرکات مختلف شنا را در بیرون از آب انجام\\nدهند. نوع سنجش این معلم کدام است؟\\n\\n   \\n\\nنمونه کار مشاهده ای\\n\\nهگ\\n۷ معلم یکی | ز هنرستان ها در پایان ترم از دانش آموزان خود خواست که به صدای یک موتور محبوب عی تشه\\n۰\\n\\nغیب را شناسایی کنند. این معلم برای سنجش میزان یادگیری دانش آموزان خود از کدام شیوه سنجش کمک گرفته است؟\\n\\n۱ عملکردی| مشاهده ای کارپوشه رفتاری\\n\\n۸ تعریف زیر اشاره به کدام مورد دارد؟\\nنوعی از ارزشیابی است که در طول فرایند یاددهی- یادگیری» به طور پیوسته و مداوم برای شناسایی و تقویت قوت ها و شناسایی و رفح\\nضعف هاء موانع و مشکلات یادگیری فراگیران صورت میگیرد؟\\n\\nارزشیابی تراکمی ارزشیابی تکوینی! ارزشیابی عینی آزمون جایایی\\n\\n\\u200e٩\\u200f در خصوص بازخورد و انواع آن کدام مورد صحیح است؟\\nبازخورد باید به نحوی داده شود که باعث شود دانش آموز خود را با بقیه مقایسه کند.\\n\\n\\u200fتنها منبع بازخورد به دانش آموزان معلم است.\\n\\n\\u200fبازخورد کمی میتواند گزارش مشروح 9 روشنی درباره وضعیت دانش اموز به دی نقح ارائه دهد .\\n\\n\\u200e۱۷/۸\\n\\n\\u200e٩0620060 ۱۷۷۱۱ ۲\\n\\x0c۰ در کدام نوع ارزشیابی مهارتها و دانش های پیش نیاز دانش آموزان » مورد ارزشیابی قرار می گیرند؟\\n\\nتشخیصی ۲ جایابی \"\" تکوینی ۱ آمادگی|\\n0 معلم پس از انجام یک بازدید علمی از کارخانه تولید لبنیات » از دانش آموزان میخواهد گزارشی تهیه و به وی ارائه نمایند آزمون\\nمذکور» در حیطه کدامیک از انواع آزمون های عملکردی قرار میگیرد؟\\n\\nکتبی عملگردی انجام عملکرد در موقحیت های شبیه سازی شده شناسایین 8۰۱ نمونه کارا\\n۳\\n\\n۳ کدام مورد در خصوص روشهای سنجش عاطفی» صحیح است؟\\nداده های بدست آمده از روشهای سنجش عاطفی, کاملا عینی و قابل اعتماد هستند.\\n\\nداده های بدست آمده از مصاحبه را نمیتوان برای سنجش عواطف. مورداستفاده قرار داد\\n\\n۱۳/۸\\n\\n۹620۳060 ۱۸۱1 ۲\\n\\x0c'"
            ],
            "application/vnd.google.colaboratory.intrinsic+json": {
              "type": "string"
            }
          },
          "metadata": {},
          "execution_count": 8
        }
      ]
    }
  ]
}